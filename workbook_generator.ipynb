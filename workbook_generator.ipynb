{
 "cells": [
  {
   "cell_type": "code",
   "execution_count": null,
   "id": "811a47cc",
   "metadata": {},
   "outputs": [],
   "source": [
    "import pandas as pd\n",
    "import xlwings as xw\n",
    "import openpyxl\n",
    "from openpyxl.utils import get_column_letter\n",
    "from tqdm.notebook import tqdm"
   ]
  },
  {
   "cell_type": "code",
   "execution_count": null,
   "id": "afaaeca1",
   "metadata": {},
   "outputs": [],
   "source": [
    "# Path to template sheet for use in Insert sheet\n",
    "template_path = 'tracker_template.xlsx'\n",
    "# Path to workbook with table of Workbook Names and Sheet Names\n",
    "names_wb_path = 'names.xlsx'\n",
    "names_wb = openpyxl.load_workbook(names_wb_path)\n",
    "# Select correct sheet\n",
    "names_sheet = names_wb['Sheet1']\n",
    "# Parse as df\n",
    "df = pd.DataFrame(names_sheet.values)\n",
    "# Set headers\n",
    "df.columns = df.iloc[0].values\n",
    "# Drop row with header names\n",
    "df = df.drop(0)"
   ]
  },
  {
   "cell_type": "code",
   "execution_count": null,
   "id": "7abc501d",
   "metadata": {},
   "outputs": [],
   "source": [
    "for index, row in df.iterrows():\n",
    "    df['Sheet Name'].loc[index] = row['Sheet Name'][:30]"
   ]
  },
  {
   "cell_type": "code",
   "execution_count": null,
   "id": "c17e72ef",
   "metadata": {},
   "outputs": [],
   "source": [
    "def Book_Gen(df):\n",
    "    '''This function will create workbooks from the\n",
    "    dataframe of workbook names provided.\n",
    "    There will be a workbook created for each unique value in the Workbook Name\n",
    "    column of df.\n",
    "    inputs:\n",
    "        df = the dataframe housing Workbook Name and Sheet Name\n",
    "    outputs:\n",
    "        prints name of each workbook created\n",
    "        creates workbooks in script location'''\n",
    "    \n",
    "    workbooks = {}\n",
    "    \n",
    "    # Iterate through df and create wb and sheets\n",
    "    for index, row in tqdm(df.iterrows()):\n",
    "        workbook_name = row['Workbook Name'] + '.xlsx'\n",
    "        # Check for existing workbook\n",
    "        if workbook_name not in workbooks:\n",
    "            workbooks[workbook_name] = openpyxl.Workbook()\n",
    "            #print(f'{workbook_name} Created')\n",
    "            \n",
    "    # Close all workbooks\n",
    "    for workbook_name, workbook in workbooks.items():\n",
    "        workbook.save(workbook_name)"
   ]
  },
  {
   "cell_type": "code",
   "execution_count": null,
   "id": "31b532fd",
   "metadata": {},
   "outputs": [],
   "source": [
    "def Insert_Sheet(template_path, df):\n",
    "    '''Inserts the template_sheet for each Sheet Name into each Workbook Name in df\n",
    "    inputs:\n",
    "        df = the dataframe housing Workbook Name and Sheet Name\n",
    "    outputs:\n",
    "        prints name of each sheet created\n",
    "        inserts sheets into workbooks in script location'''\n",
    "    \n",
    "    # Open template sheet\n",
    "    template_workbook = xw.Book(template_path)\n",
    "    template_sheet = template_workbook.sheets[0]\n",
    "    \n",
    "    # Dict of workbooks\n",
    "    workbooks = {}\n",
    "    # List of workbook names\n",
    "    workbook_names = list(df['Workbook Name'].value_counts().index)\n",
    "    \n",
    "    for workbook_name in tqdm(workbook_names, desc='Outer Loop'):\n",
    "        workbook_filename = workbook_name + '.xlsx'\n",
    "        workbook = xw.Book(workbook_filename)\n",
    "        \n",
    "        for index, row in tqdm(df[df['Workbook Name'] == workbook_name].iterrows(), desc='Inner Loop', position=1):\n",
    "            sheet_name = row['Sheet Name']\n",
    "            template_sheet.copy(before=workbook.sheets[0], name=sheet_name)\n",
    "            #tqdm.write(f'{sheet_name} added to {workbook_name}')\n",
    "            \n",
    "        workbook.sheets['Sheet'].delete()\n",
    "        workbook.save()\n",
    "        workbook.close()\n",
    "        template_workbook.close()\n",
    "        #tqdm.write(f'{workbook_filename} Complete')\n"
   ]
  },
  {
   "cell_type": "code",
   "execution_count": null,
   "id": "9ec2c51f",
   "metadata": {},
   "outputs": [],
   "source": [
    "# Generates a new line in the rollup sheet for a proposal\n",
    "def lineGen(proposal_name, book_name, index, df):\n",
    "    line = [proposal_name]\n",
    "    formulas = [f'''=INDIRECT(\"'{proposal_name}'!G{x}\")''' for x in range(6,19)]\n",
    "    formulas.insert(0, f'{proposal_name}')\n",
    "    formulas.insert(1, f'''=sum(C{index+2}:O{index+2})''')\n",
    "    df.loc[len(df)] = formulas"
   ]
  },
  {
   "cell_type": "code",
   "execution_count": null,
   "id": "d8d78844",
   "metadata": {
    "scrolled": true
   },
   "outputs": [],
   "source": [
    "Book_Gen(df)"
   ]
  },
  {
   "cell_type": "code",
   "execution_count": null,
   "id": "b91576d5",
   "metadata": {
    "scrolled": true
   },
   "outputs": [],
   "source": [
    "Insert_Sheet(template_path, df)"
   ]
  },
  {
   "cell_type": "code",
   "execution_count": null,
   "id": "31ca4c9b",
   "metadata": {},
   "outputs": [],
   "source": []
  }
 ],
 "metadata": {
  "kernelspec": {
   "display_name": "Python 3 (ipykernel)",
   "language": "python",
   "name": "python3"
  },
  "language_info": {
   "codemirror_mode": {
    "name": "ipython",
    "version": 3
   },
   "file_extension": ".py",
   "mimetype": "text/x-python",
   "name": "python",
   "nbconvert_exporter": "python",
   "pygments_lexer": "ipython3",
   "version": "3.11.4"
  }
 },
 "nbformat": 4,
 "nbformat_minor": 5
}
